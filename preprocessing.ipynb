{
 "cells": [
  {
   "cell_type": "markdown",
   "id": "a6139960",
   "metadata": {},
   "source": [
    "# 数据预处理"
   ]
  },
  {
   "cell_type": "code",
   "execution_count": 1,
   "id": "41a69837",
   "metadata": {},
   "outputs": [],
   "source": [
    "import pandas as pd\n",
    "from sklearn.preprocessing import StandardScaler\n",
    "import os\n",
    "\n",
    "\n",
    "df = pd.read_csv('./data/train.csv')\n",
    "df = df.dropna()\n",
    "feature_cols = [str(i) for i in range(300) if str(i) in df.columns]\n",
    "\n",
    "scaler = StandardScaler()\n",
    "df[feature_cols] = scaler.fit_transform(df[feature_cols])\n",
    "\n",
    "\n",
    "mean_variance_dict = {feature: {\"mean\": scaler.mean_[i], \"var\": scaler.var_[i]} \n",
    "                      for i, feature in enumerate(feature_cols)}\n",
    "\n",
    "output_path = os.path.join(\"./output\", \"mean_variance_dict.json\")\n",
    "with open(output_path, 'w') as f:\n",
    "    pd.Series(mean_variance_dict).to_json(f)\n",
    "\n",
    "df.to_csv('./data/train_standard.csv')"
   ]
  }
 ],
 "metadata": {
  "kernelspec": {
   "display_name": "Python 3 (ipykernel)",
   "language": "python",
   "name": "python3"
  },
  "language_info": {
   "codemirror_mode": {
    "name": "ipython",
    "version": 3
   },
   "file_extension": ".py",
   "mimetype": "text/x-python",
   "name": "python",
   "nbconvert_exporter": "python",
   "pygments_lexer": "ipython3",
   "version": "3.10.9"
  }
 },
 "nbformat": 4,
 "nbformat_minor": 5
}
